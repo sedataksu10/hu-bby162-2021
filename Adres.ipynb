{
  "nbformat": 4,
  "nbformat_minor": 0,
  "metadata": {
    "colab": {
      "name": "Adres.ipynb",
      "provenance": [],
      "mount_file_id": "1hfoHQRoCogY_fT91QFUGPX3XeuwEDItb",
      "authorship_tag": "ABX9TyMLSYkhdMzlAF1t15qOjzbA",
      "include_colab_link": true
    },
    "kernelspec": {
      "name": "python3",
      "display_name": "Python 3"
    },
    "language_info": {
      "name": "python"
    }
  },
  "cells": [
    {
      "cell_type": "markdown",
      "metadata": {
        "id": "view-in-github",
        "colab_type": "text"
      },
      "source": [
        "<a href=\"https://colab.research.google.com/github/sedataksu10/hu-bby162-2021/blob/main/Adres.ipynb\" target=\"_parent\"><img src=\"https://colab.research.google.com/assets/colab-badge.svg\" alt=\"Open In Colab\"/></a>"
      ]
    },
    {
      "cell_type": "code",
      "metadata": {
        "colab": {
          "base_uri": "https://localhost:8080/"
        },
        "id": "bT2Cz3-tbp6V",
        "outputId": "cb726dce-5abb-4d31-8b8b-b087f128e446"
      },
      "source": [
        "dosya = \"/content/drive/MyDrive/Colab Notebooks/Adres.txt\"\n",
        "\n",
        "adSoyad = input(\"Adınızı Soyadınızı Giriniz\")\n",
        "eposta = input(\"E-posta adresinizi giriniz\")\n",
        "\n",
        "f = open(dosya, 'w') \n",
        "f.write(adSoyad + \" , \" + eposta + \"\\n\") \n",
        "f.close()\n",
        "\n",
        "dosya = \"/content/drive/MyDrive/Colab Notebooks/Adres.txt\"\n",
        "\n",
        "f = open(dosya, \"r\") \n",
        "\n",
        "for line in f.readlines():\n",
        "    print(line)\n",
        "\n",
        "f.close()"
      ],
      "execution_count": 2,
      "outputs": [
        {
          "output_type": "stream",
          "text": [
            "Adınızı Soyadınızı GirinizSedat AKSU\n",
            "E-posta adresinizi girinizaksusedat232@gmail.com\n",
            "Sedat AKSU , aksusedat232@gmail.com\n",
            "\n"
          ],
          "name": "stdout"
        }
      ]
    }
  ]
}