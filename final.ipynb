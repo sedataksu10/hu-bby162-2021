{
  "nbformat": 4,
  "nbformat_minor": 0,
  "metadata": {
    "colab": {
      "name": "final.ipynb",
      "provenance": [],
      "mount_file_id": "1TCc0_s5VRKSIS7WxyMMyNKdexE1QqvWk",
      "authorship_tag": "ABX9TyOfS6wZkQ3Xml4zmjb00dxr",
      "include_colab_link": true
    },
    "kernelspec": {
      "name": "python3",
      "display_name": "Python 3"
    },
    "language_info": {
      "name": "python"
    }
  },
  "cells": [
    {
      "cell_type": "markdown",
      "metadata": {
        "id": "view-in-github",
        "colab_type": "text"
      },
      "source": [
        "<a href=\"https://colab.research.google.com/github/sedataksu10/hu-bby162-2021/blob/main/final.ipynb\" target=\"_parent\"><img src=\"https://colab.research.google.com/assets/colab-badge.svg\" alt=\"Open In Colab\"/></a>"
      ]
    },
    {
      "cell_type": "code",
      "metadata": {
        "colab": {
          "base_uri": "https://localhost:8080/"
        },
        "id": "nuYaQxFwgC-u",
        "outputId": "61961d30-d13c-4269-f43e-839e1cf72812"
      },
      "source": [
        "dosya = \"/content/drive/MyDrive/Colab Notebooks/Final.txt\"\n",
        "print(\"Kütüphane Kataloglama Sistemine Hoşgeldiniz\")\n",
        "\n",
        "def eserListele():\n",
        "  f = open(dosya, 'r')\n",
        "  for line in f.readlines():\n",
        "    print(line)\n",
        "  f.close()\n",
        "\n",
        "def eserKaydet():\n",
        "  eserAdi = input(\"Eser Adını Giriniz.\")\n",
        "  eserYazar = input(\"Eserin Yazarını Giriniz.\")\n",
        "  eserYayınevi = input(\"Eserin Yayınevi Bilgisini Giriniz.\")\n",
        "  eserBasımtarihi = input(\"Eserin Basım Tarihini Giriniz (Yıl Olarak)\")\n",
        "  eserIsbn = input(\"Eserin ISBN Bilgilerini Giriniz.\")\n",
        "  f = open(dosya, 'a' )\n",
        "  f.write(eserAdi + \" , \" + eserYazar + \" , \" + eserYayınevi + \" , \" + eserBasımtarihi + \" , \" + eserIsbn + '\\n')\n",
        "  print(\"Kaydı Başarıyla Eklediniz\")\n",
        "  f.close()\n",
        "  \n",
        "islemSecme = [\"listele\", \"ekle\", \"bitir\"]\n",
        "while islemSecme:\n",
        "  girilen_islem = input(\"Katalogdaki eser listesini görüntülemek için 'listele'\\n\"\n",
        "      \"Yeni eser kaydı eklemek için 'ekle' görevini yazınız.\\n\"     \n",
        "      \"Sistemden çıkmak için 'bitir' görevini yazınız.\\n\"\n",
        "      \"Yapmak istediğiniz işlem için ilgili görevi yazınız: \")\n",
        "  \n",
        "  if girilen_islem == islemSecme[0]:\n",
        "    print(\"Kütüphane kataloğuna hoş geldiniz..\")\n",
        "    eserListele()\n",
        "  elif girilen_islem == islemSecme[1]:\n",
        "    print(\"Kataloğa yeni bir kayıt giriniz.\")\n",
        "    eserKaydet()\n",
        "  elif girilen_islem == islemSecme[2]:\n",
        "    break"
      ],
      "execution_count": 2,
      "outputs": [
        {
          "output_type": "stream",
          "text": [
            "Kütüphane Kataloglama Sistemine Hoşgeldiniz\n",
            "Katalogdaki eser listesini görüntülemek için 'listele'\n",
            "Yeni eser kaydı eklemek için 'ekle' görevini yazınız.\n",
            "Sistemden çıkmak için 'bitir' görevini yazınız.\n",
            "Yapmak istediğiniz işlem için ilgili görevi yazınız: ekle\n",
            "Kataloğa yeni bir kayıt giriniz.\n",
            "Eser Adını Giriniz.Beyaz Diş\n",
            "Eserin Yazarını Giriniz.Jack LANDON\n",
            "Eserin Yayınevi Bilgisini Giriniz.Roman Oda Yayınları\n",
            "Eserin Basım Tarihini Giriniz (Yıl Olarak)2001\n",
            "Eserin ISBN Bilgilerini Giriniz.9781847498014\n",
            "Kaydı Başarıyla Eklediniz\n",
            "Katalogdaki eser listesini görüntülemek için 'listele'\n",
            "Yeni eser kaydı eklemek için 'ekle' görevini yazınız.\n",
            "Sistemden çıkmak için 'bitir' görevini yazınız.\n",
            "Yapmak istediğiniz işlem için ilgili görevi yazınız: listele\n",
            "Kütüphane kataloğuna hoş geldiniz..\n",
            "Beyaz Diş , Jack LANDON , Roman Oda Yayınları , 2001 , 9781847498014\n",
            "\n",
            "Katalogdaki eser listesini görüntülemek için 'listele'\n",
            "Yeni eser kaydı eklemek için 'ekle' görevini yazınız.\n",
            "Sistemden çıkmak için 'bitir' görevini yazınız.\n",
            "Yapmak istediğiniz işlem için ilgili görevi yazınız: ekle\n",
            "Kataloğa yeni bir kayıt giriniz.\n",
            "Eser Adını Giriniz.Sefiller\n",
            "Eserin Yazarını Giriniz.Victor Hugo\n",
            "Eserin Yayınevi Bilgisini Giriniz.Babıali Kültür\n",
            "Eserin Basım Tarihini Giriniz (Yıl Olarak)1862\n",
            "Eserin ISBN Bilgilerini Giriniz.9786055545826\n",
            "Kaydı Başarıyla Eklediniz\n",
            "Katalogdaki eser listesini görüntülemek için 'listele'\n",
            "Yeni eser kaydı eklemek için 'ekle' görevini yazınız.\n",
            "Sistemden çıkmak için 'bitir' görevini yazınız.\n",
            "Yapmak istediğiniz işlem için ilgili görevi yazınız: ekle\n",
            "Kataloğa yeni bir kayıt giriniz.\n",
            "Eser Adını Giriniz.Şeker Portakalı\n",
            "Eserin Yazarını Giriniz.José Mauro De Vasconcelos\n",
            "Eserin Yayınevi Bilgisini Giriniz.Can Yayınları\n",
            "Eserin Basım Tarihini Giriniz (Yıl Olarak)\t9789750738609\n",
            "Eserin ISBN Bilgilerini Giriniz.1968\n",
            "Kaydı Başarıyla Eklediniz\n",
            "Katalogdaki eser listesini görüntülemek için 'listele'\n",
            "Yeni eser kaydı eklemek için 'ekle' görevini yazınız.\n",
            "Sistemden çıkmak için 'bitir' görevini yazınız.\n",
            "Yapmak istediğiniz işlem için ilgili görevi yazınız: Ateşten Gömlek\n",
            "Katalogdaki eser listesini görüntülemek için 'listele'\n",
            "Yeni eser kaydı eklemek için 'ekle' görevini yazınız.\n",
            "Sistemden çıkmak için 'bitir' görevini yazınız.\n",
            "Yapmak istediğiniz işlem için ilgili görevi yazınız: ekle\n",
            "Kataloğa yeni bir kayıt giriniz.\n",
            "Eser Adını Giriniz.Ateşten Gömlek\n",
            "Eserin Yazarını Giriniz.Halide Edip Adıvar\n",
            "Eserin Yayınevi Bilgisini Giriniz.Can Yayınları\n",
            "Eserin Basım Tarihini Giriniz (Yıl Olarak)1922\n",
            "Eserin ISBN Bilgilerini Giriniz.9754470790\n",
            "Kaydı Başarıyla Eklediniz\n",
            "Katalogdaki eser listesini görüntülemek için 'listele'\n",
            "Yeni eser kaydı eklemek için 'ekle' görevini yazınız.\n",
            "Sistemden çıkmak için 'bitir' görevini yazınız.\n",
            "Yapmak istediğiniz işlem için ilgili görevi yazınız: bitir\n"
          ],
          "name": "stdout"
        }
      ]
    }
  ]
}